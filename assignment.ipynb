{
 "cells": [
  {
   "cell_type": "code",
   "execution_count": null,
   "id": "a52d9469-26ae-4635-bd05-3f33875214bb",
   "metadata": {},
   "outputs": [],
   "source": [
    "#Q1-extract the data from index 1to 200 with jump of 3 "
   ]
  },
  {
   "cell_type": "code",
   "execution_count": 1,
   "id": "1e9d6625-e07d-414b-84af-9a64515fc750",
   "metadata": {},
   "outputs": [
    {
     "data": {
      "text/plain": [
       "[2, 5, 8, 'raj']"
      ]
     },
     "execution_count": 1,
     "metadata": {},
     "output_type": "execute_result"
    }
   ],
   "source": [
    "r=[ 1,2,3,4,5,6,7,8,9,\"ritik\",\"raj\"]\n",
    "r[1:200:3]"
   ]
  },
  {
   "cell_type": "code",
   "execution_count": 4,
   "id": "b0451f49-90e6-4ede-8c7b-a49a033f3f7d",
   "metadata": {},
   "outputs": [
    {
     "data": {
      "text/plain": [
       "['ritik', 7, 6, 4]"
      ]
     },
     "execution_count": 4,
     "metadata": {},
     "output_type": "execute_result"
    }
   ],
   "source": [
    "#Q2-\n",
    "l=[4,6,7,\"ritik\"]\n",
    "l.reverse()\n",
    "l"
   ]
  },
  {
   "cell_type": "code",
   "execution_count": 6,
   "id": "367d4c73-8f84-426a-8ff1-e87e3e4dce8a",
   "metadata": {},
   "outputs": [
    {
     "data": {
      "text/plain": [
       "'RITIK JAIN'"
      ]
     },
     "execution_count": 6,
     "metadata": {},
     "output_type": "execute_result"
    }
   ],
   "source": [
    "#Q3-\n",
    "s=\"ritik jain\"\n",
    "s.upper()"
   ]
  },
  {
   "cell_type": "code",
   "execution_count": 7,
   "id": "7591298d-eecd-4512-8edd-a5e9e1e1b605",
   "metadata": {},
   "outputs": [
    {
     "data": {
      "text/plain": [
       "['ri', 'ik jain']"
      ]
     },
     "execution_count": 7,
     "metadata": {},
     "output_type": "execute_result"
    }
   ],
   "source": [
    "s.split('t')"
   ]
  },
  {
   "cell_type": "code",
   "execution_count": 11,
   "id": "95eb359e-484a-41b9-8e06-507e02cf1e4f",
   "metadata": {},
   "outputs": [
    {
     "data": {
      "text/plain": [
       "'ritik jain'"
      ]
     },
     "execution_count": 11,
     "metadata": {},
     "output_type": "execute_result"
    }
   ],
   "source": [
    "#Q4\n",
    "s=\"RITIK jain\"\n",
    "s.lower()"
   ]
  },
  {
   "cell_type": "code",
   "execution_count": 12,
   "id": "b02cd409-7235-4a01-8fd0-2565c0c11902",
   "metadata": {},
   "outputs": [
    {
     "data": {
      "text/plain": [
       "'Ritik jain'"
      ]
     },
     "execution_count": 12,
     "metadata": {},
     "output_type": "execute_result"
    }
   ],
   "source": [
    "#Q5-\n",
    "s.capitalize()"
   ]
  },
  {
   "cell_type": "code",
   "execution_count": null,
   "id": "247532bc-d9a6-4131-a9b3-67e973502767",
   "metadata": {},
   "outputs": [],
   "source": [
    "#Q6\n",
    "In Python isalpha() method returns true if a string only contains letters.\n",
    "In Python isnumeric() returns true if all characters in a string are numbers. \n"
   ]
  },
  {
   "cell_type": "code",
   "execution_count": 13,
   "id": "0b5aee9e-5c4a-4180-b61d-69016c51327a",
   "metadata": {},
   "outputs": [
    {
     "name": "stdout",
     "output_type": "stream",
     "text": [
      "H e l l o\n"
     ]
    }
   ],
   "source": [
    "#Q7\n",
    "txt = \"H\\te\\tl\\tl\\to\"\n",
    "x = txt.expandtabs(2)\n",
    "print(x)"
   ]
  },
  {
   "cell_type": "code",
   "execution_count": 15,
   "id": "7092dece-52ef-45df-8ca1-eaafceaf1078",
   "metadata": {},
   "outputs": [
    {
     "data": {
      "text/plain": [
       "'ritik'"
      ]
     },
     "execution_count": 15,
     "metadata": {},
     "output_type": "execute_result"
    }
   ],
   "source": [
    "#Q8-\n",
    "#using strip() to remove right and left white space\n",
    "l=\"            ritik        \"\n",
    "l.strip()"
   ]
  },
  {
   "cell_type": "code",
   "execution_count": 16,
   "id": "d8880f9c-9c6e-4148-a6bb-1327fd886f3e",
   "metadata": {},
   "outputs": [
    {
     "data": {
      "text/plain": [
       "'ritik        '"
      ]
     },
     "execution_count": 16,
     "metadata": {},
     "output_type": "execute_result"
    }
   ],
   "source": [
    "#using lstrip() to remove left white space\n",
    "l.lstrip()"
   ]
  },
  {
   "cell_type": "code",
   "execution_count": 17,
   "id": "e8880b74-2bab-4bed-9b8a-06ed0002fa5e",
   "metadata": {},
   "outputs": [
    {
     "data": {
      "text/plain": [
       "'            ritik'"
      ]
     },
     "execution_count": 17,
     "metadata": {},
     "output_type": "execute_result"
    }
   ],
   "source": [
    "#using rstrip() to remove right white space \n",
    "l.rstrip()"
   ]
  },
  {
   "cell_type": "code",
   "execution_count": 10,
   "id": "d967610e-3f7b-43d2-a4d5-d41a319bf9ee",
   "metadata": {},
   "outputs": [
    {
     "data": {
      "text/plain": [
       "'*****ritik*****'"
      ]
     },
     "execution_count": 10,
     "metadata": {},
     "output_type": "execute_result"
    }
   ],
   "source": [
    "#Q9 \n",
    "l=\"ritik\"\n",
    "centere = l.center(15,'*')\n",
    "centere"
   ]
  },
  {
   "cell_type": "code",
   "execution_count": 6,
   "id": "3146d768-da50-49b1-9916-13bdc4236fab",
   "metadata": {},
   "outputs": [
    {
     "ename": "SyntaxError",
     "evalue": "invalid syntax (2301963278.py, line 3)",
     "output_type": "error",
     "traceback": [
      "\u001b[1;36m  Cell \u001b[1;32mIn[6], line 3\u001b[1;36m\u001b[0m\n\u001b[1;33m    The Compiler is a translator which takes input i.e., High-Level Language, and produces an\u001b[0m\n\u001b[1;37m        ^\u001b[0m\n\u001b[1;31mSyntaxError\u001b[0m\u001b[1;31m:\u001b[0m invalid syntax\n"
     ]
    }
   ],
   "source": [
    "#Q10\n",
    "Compiler\n",
    "The Compiler is a translator which takes input i.e., High-Level Language, and produces an \n",
    "output of low-level language i.e. machine or assembly language.\n",
    "Interpreter\n",
    "An Interpreter is a program that translates a programming language into a comprehensible \n",
    "language. The interpreter converts high-level language to an intermediate language. "
   ]
  },
  {
   "cell_type": "code",
   "execution_count": 22,
   "id": "92be499a-6fe5-4cf2-a143-eefdc691b484",
   "metadata": {},
   "outputs": [
    {
     "ename": "SyntaxError",
     "evalue": "invalid syntax (1195768401.py, line 1)",
     "output_type": "error",
     "traceback": [
      "\u001b[1;36m  Cell \u001b[1;32mIn[22], line 1\u001b[1;36m\u001b[0m\n\u001b[1;33m    r=\"ritikt,\"jain\",'raj\"\u001b[0m\n\u001b[1;37m               ^\u001b[0m\n\u001b[1;31mSyntaxError\u001b[0m\u001b[1;31m:\u001b[0m invalid syntax\n"
     ]
    }
   ],
   "source": []
  },
  {
   "cell_type": "code",
   "execution_count": 24,
   "id": "799f5389-0709-425e-ba1f-ed82bcdc85f0",
   "metadata": {},
   "outputs": [
    {
     "data": {
      "text/plain": [
       "'t'"
      ]
     },
     "execution_count": 24,
     "metadata": {},
     "output_type": "execute_result"
    }
   ],
   "source": []
  },
  {
   "cell_type": "code",
   "execution_count": 25,
   "id": "4088646a-ffdd-4253-97e4-7cae0e0160ad",
   "metadata": {},
   "outputs": [
    {
     "data": {
      "text/plain": [
       "'\\t'"
      ]
     },
     "execution_count": 25,
     "metadata": {},
     "output_type": "execute_result"
    }
   ],
   "source": []
  },
  {
   "cell_type": "code",
   "execution_count": null,
   "id": "79e745b9-b850-4511-851c-75261e347af0",
   "metadata": {},
   "outputs": [],
   "source": []
  }
 ],
 "metadata": {
  "kernelspec": {
   "display_name": "Python 3 (ipykernel)",
   "language": "python",
   "name": "python3"
  },
  "language_info": {
   "codemirror_mode": {
    "name": "ipython",
    "version": 3
   },
   "file_extension": ".py",
   "mimetype": "text/x-python",
   "name": "python",
   "nbconvert_exporter": "python",
   "pygments_lexer": "ipython3",
   "version": "3.11.4"
  }
 },
 "nbformat": 4,
 "nbformat_minor": 5
}
