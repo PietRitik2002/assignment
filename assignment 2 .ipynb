{
 "cells": [
  {
   "cell_type": "code",
   "execution_count": 2,
   "id": "a820c374-296e-4094-a4d8-8f7068a0c088",
   "metadata": {},
   "outputs": [
    {
     "data": {
      "text/plain": [
       "[3,\n",
       " 4,\n",
       " 5,\n",
       " 6,\n",
       " 7,\n",
       " [23, 456, 67, 8, 78],\n",
       " [345, 56, 87, 9],\n",
       " (234, 657, 6),\n",
       " {'key1': 'raksha', 234: ['a', 'b']}]"
      ]
     },
     "execution_count": 2,
     "metadata": {},
     "output_type": "execute_result"
    }
   ],
   "source": [
    "l=[3,4,5,6,7,[23,456,67,8,78],[345,56,87,9],(234,657,6),{\"key1\":\"raksha\",234:['a','b']}]\n",
    "l"
   ]
  },
  {
   "cell_type": "code",
   "execution_count": 3,
   "id": "a0ac7cd5-2914-4874-b138-0062fc1017d0",
   "metadata": {},
   "outputs": [
    {
     "data": {
      "text/plain": [
       "[{'key1': 'raksha', 234: ['a', 'b']},\n",
       " (234, 657, 6),\n",
       " [345, 56, 87, 9],\n",
       " [23, 456, 67, 8, 78],\n",
       " 7,\n",
       " 6,\n",
       " 5,\n",
       " 4,\n",
       " 3]"
      ]
     },
     "execution_count": 3,
     "metadata": {},
     "output_type": "execute_result"
    }
   ],
   "source": [
    "#Q1\n",
    "l[ : :-1]"
   ]
  },
  {
   "cell_type": "code",
   "execution_count": 4,
   "id": "c2951d34-2dbb-4380-9f90-b0d5f39a717c",
   "metadata": {},
   "outputs": [
    {
     "data": {
      "text/plain": [
       "234"
      ]
     },
     "execution_count": 4,
     "metadata": {},
     "output_type": "execute_result"
    }
   ],
   "source": [
    "#Q2\n",
    "l[7][0]"
   ]
  },
  {
   "cell_type": "code",
   "execution_count": 6,
   "id": "66a1c88e-c116-4a42-a1c8-c1294996e321",
   "metadata": {},
   "outputs": [
    {
     "data": {
      "text/plain": [
       "456"
      ]
     },
     "execution_count": 6,
     "metadata": {},
     "output_type": "execute_result"
    }
   ],
   "source": [
    "#Q3\n",
    "l[5][1]"
   ]
  },
  {
   "cell_type": "code",
   "execution_count": 31,
   "id": "cc1a5bd1-4b26-42fd-a605-9f6a2d0d271f",
   "metadata": {},
   "outputs": [
    {
     "name": "stdout",
     "output_type": "stream",
     "text": [
      "[23, 456, 67, 8, 78] [345, 56, 87, 9]\n"
     ]
    }
   ],
   "source": [
    "#Q4\n",
    "print(l[5],l[6])"
   ]
  },
  {
   "cell_type": "code",
   "execution_count": 32,
   "id": "f0f8e4f1-3d0f-4f28-aa1c-b4194d624efc",
   "metadata": {},
   "outputs": [
    {
     "data": {
      "text/plain": [
       "'raksha'"
      ]
     },
     "execution_count": 32,
     "metadata": {},
     "output_type": "execute_result"
    }
   ],
   "source": [
    "#Q5\n",
    "l [8][\"key1\"]"
   ]
  },
  {
   "cell_type": "code",
   "execution_count": 33,
   "id": "a274f24b-3db6-47e1-9c14-9a9fbc976ff2",
   "metadata": {},
   "outputs": [
    {
     "data": {
      "text/plain": [
       "dict_values(['raksha', ['a', 'b']])"
      ]
     },
     "execution_count": 33,
     "metadata": {},
     "output_type": "execute_result"
    }
   ],
   "source": [
    "#Q6\n",
    "l[8].values()"
   ]
  },
  {
   "cell_type": "code",
   "execution_count": null,
   "id": "86ad399d-f0b1-4079-b5be-ee026f32d828",
   "metadata": {},
   "outputs": [],
   "source": [
    "#Q7\n",
    "#if\n",
    "#elif\n",
    "#else"
   ]
  },
  {
   "cell_type": "code",
   "execution_count": null,
   "id": "9e9f9c80-6fb9-46e9-8bc0-e6726a53ccc8",
   "metadata": {},
   "outputs": [],
   "source": [
    "#Q8\n",
    "# if condition:\n",
    "   #body of if staement"
   ]
  },
  {
   "cell_type": "markdown",
   "id": "81cc0357-04a8-4152-9fb4-0baa16694402",
   "metadata": {},
   "source": []
  },
  {
   "cell_type": "code",
   "execution_count": null,
   "id": "eac973fe-881f-4025-8c81-91d37583d33a",
   "metadata": {},
   "outputs": [],
   "source": []
  },
  {
   "cell_type": "code",
   "execution_count": null,
   "id": "cf2bf44b-1283-490a-9632-2ec6c0486e11",
   "metadata": {},
   "outputs": [],
   "source": []
  },
  {
   "cell_type": "code",
   "execution_count": null,
   "id": "b58d3d2e-0472-4f60-b0e5-373cb80a8492",
   "metadata": {},
   "outputs": [],
   "source": []
  }
 ],
 "metadata": {
  "kernelspec": {
   "display_name": "Python 3 (ipykernel)",
   "language": "python",
   "name": "python3"
  },
  "language_info": {
   "codemirror_mode": {
    "name": "ipython",
    "version": 3
   },
   "file_extension": ".py",
   "mimetype": "text/x-python",
   "name": "python",
   "nbconvert_exporter": "python",
   "pygments_lexer": "ipython3",
   "version": "3.11.4"
  }
 },
 "nbformat": 4,
 "nbformat_minor": 5
}
